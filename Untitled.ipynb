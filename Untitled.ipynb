{
 "cells": [
  {
   "cell_type": "code",
   "execution_count": null,
   "metadata": {},
   "outputs": [],
   "source": []
  },
  {
   "cell_type": "code",
   "execution_count": null,
   "metadata": {},
   "outputs": [],
   "source": [
    "# Query\n",
    "#   - cust_inv\n",
    "#   - trk_s\n",
    "tree1 = ['Query',\n",
    "         [\n",
    "            ['cust_inv'], \n",
    "            ['trk_s']\n",
    "         ]\n",
    "        ]\n",
    "# Query\n",
    "#   - cust_inv\n",
    "#     - cust\n",
    "#     - inv\n",
    "#   - trk_s\n",
    "tree2 = ['Query',\n",
    "   [\n",
    "       ['cust_inv', [['cust'], ['inv']]],\n",
    "       ['trk_s']\n",
    "   ]\n",
    "  ]"
   ]
  },
  {
   "cell_type": "code",
   "execution_count": null,
   "metadata": {},
   "outputs": [],
   "source": [
    "def traverse(o, tree_types=(list, tuple)):\n",
    "    if isinstance(o, tree_types):\n",
    "        for value in o:\n",
    "            for subvalue in traverse(value, tree_types):\n",
    "                yield subvalue\n",
    "                \n",
    "    else:\n",
    "        yield o"
   ]
  },
  {
   "cell_type": "code",
   "execution_count": null,
   "metadata": {},
   "outputs": [],
   "source": [
    "print(list(traverse(tree1)))"
   ]
  },
  {
   "cell_type": "code",
   "execution_count": null,
   "metadata": {},
   "outputs": [],
   "source": [
    "for value in traverse(tree1):\n",
    "    print(repr(value))"
   ]
  },
  {
   "cell_type": "code",
   "execution_count": null,
   "metadata": {},
   "outputs": [],
   "source": [
    "print(list(traverse(tree2)))"
   ]
  },
  {
   "cell_type": "code",
   "execution_count": null,
   "metadata": {},
   "outputs": [],
   "source": [
    "import itertools\n",
    "\n",
    "for item in itertools.chain.from_iterable(tree2):\n",
    "    if not isinstance(item, str):\n",
    "        print(item)\n",
    "    "
   ]
  },
  {
   "cell_type": "code",
   "execution_count": null,
   "metadata": {},
   "outputs": [],
   "source": []
  },
  {
   "cell_type": "code",
   "execution_count": null,
   "metadata": {},
   "outputs": [],
   "source": [
    "import pydot\n",
    "import os"
   ]
  },
  {
   "cell_type": "code",
   "execution_count": null,
   "metadata": {},
   "outputs": [],
   "source": [
    "tree2 = ['Query',\n",
    "   [\n",
    "       ['cust_inv', [['cust'], ['inv']]],\n",
    "       ['trk_s', [['cust2'], ['inv2']]]\n",
    "   ]\n",
    "  ]\n",
    "\n",
    "G = pydot.Dot(graph_type=\"digraph\")\n",
    "\n",
    "\n",
    "root = tree2[0]\n",
    "node = pydot.Node(root, style=\"filled\", fillcolor=\"green\")\n",
    "G.add_node(node)\n",
    "tree2 = tree2[1:]\n",
    "layer1=tree2\n",
    "layer2=[]\n",
    "while True:\n",
    "    for idx, val in enumerate(layer1):\n",
    "        if isinstance(val,list):\n",
    "            \n",
    "            if isinstance(layer1[idx-1], str): \n",
    "                node = pydot.Node(layer1[idx-1], style=\"filled\", fillcolor=\"green\")\n",
    "                G.add_node(node)\n",
    "#                 edge = pydot.Edge(root, val)\n",
    "#                 G.add_edge(edge)\n",
    "                \n",
    "            for j in val:\n",
    "                layer2.append(j)\n",
    "        else:           \n",
    "            node = pydot.Node(val, style=\"filled\", fillcolor=\"green\")\n",
    "            G.add_node(node)\n",
    "            edge = pydot.Edge(root, val)\n",
    "            G.add_edge(edge)\n",
    "\n",
    "    print(layer2)\n",
    "#     if isinstance(layer1[0], str):   \n",
    "#         root = layer1[0]\n",
    "    layer1[:]=layer2\n",
    "    layer2=[]\n",
    "    if len(layer1)==0:\n",
    "        break\n",
    "im = Image(G.create_png())\n",
    "display(im)\n"
   ]
  },
  {
   "cell_type": "code",
   "execution_count": null,
   "metadata": {},
   "outputs": [],
   "source": [
    "tree2 = ['Query',\n",
    "   [\n",
    "       ['cust_inv', [['cust'], ['inv']]],\n",
    "       ['trk_s', [['cust2'], ['inv2']]]\n",
    "   ]\n",
    "  ]\n",
    "\n",
    "def formTree(list): \n",
    "    tree = {} \n",
    "    layer1=list\n",
    "    layer2=[]\n",
    "    while True:\n",
    "        for key in list: \n",
    "            currTree = tree\n",
    "            if key not in currTree and isinstance(key, str): \n",
    "                print(key)\n",
    "                currTree[key] = {} \n",
    "                currTree = currTree[key]\n",
    "            else:\n",
    "                layer2.append(key)\n",
    "        print(layer1)\n",
    "        layer1[:]=layer2\n",
    "        layer2=[]\n",
    "        if len(layer1)==0:\n",
    "            break\n",
    "              \n",
    "    return tree \n",
    "\n",
    "formTree(tree2)\n",
    "\n",
    "# # Driver Code \n",
    "# lst = [['A'], ['A', 'B'], ['A', 'C'], ['A', 'C', 'D']] \n",
    "# print(formTree(lst))\n"
   ]
  },
  {
   "cell_type": "code",
   "execution_count": null,
   "metadata": {},
   "outputs": [],
   "source": [
    "tree2[1][0][1]"
   ]
  },
  {
   "cell_type": "code",
   "execution_count": null,
   "metadata": {},
   "outputs": [],
   "source": [
    "for value in traverse(tree2):\n",
    "    print(repr(value))"
   ]
  },
  {
   "cell_type": "code",
   "execution_count": null,
   "metadata": {},
   "outputs": [],
   "source": [
    "import pydot\n",
    "import os"
   ]
  },
  {
   "cell_type": "code",
   "execution_count": null,
   "metadata": {},
   "outputs": [],
   "source": [
    "root = tree1[0]\n",
    "G = pydot.Dot(graph_type=\"digraph\")\n",
    "node = pydot.Node(root, style=\"filled\", fillcolor=\"green\")\n",
    "G.add_node(node)\n",
    "\n",
    "im = Image(G.create_png())\n",
    "display(im)"
   ]
  },
  {
   "cell_type": "code",
   "execution_count": null,
   "metadata": {},
   "outputs": [],
   "source": [
    "rootDir = \"/Users/menghengxue/Desktop/gsa/SQL-Plot-tool\""
   ]
  },
  {
   "cell_type": "code",
   "execution_count": null,
   "metadata": {},
   "outputs": [],
   "source": [
    "G = pydot.Dot(graph_type=\"digraph\")"
   ]
  },
  {
   "cell_type": "code",
   "execution_count": null,
   "metadata": {},
   "outputs": [],
   "source": [
    "node = pydot.Node(rootDir.split('/')[-1], style=\"filled\", fillcolor=\"green\")\n",
    "G.add_node(node)"
   ]
  },
  {
   "cell_type": "code",
   "execution_count": null,
   "metadata": {},
   "outputs": [],
   "source": [
    "for root, dirs, files in os.walk(rootDir):\n",
    "    \n",
    "    for subdir in dirs:\n",
    "        node = pydot.Node(subdir, style=\"filled\", fillcolor=\"yellow\")\n",
    "        G.add_node(node)\n",
    "        edge = pydot.Edge(root.split('/')[-1], subdir)\n",
    "        G.add_edge(edge)\n",
    "        \n",
    "    for file in files:\n",
    "        node = pydot.Node(file, style=\"filled\", fillcolor=\"orange\")\n",
    "        G.add_node(node)\n",
    "        edge = pydot.Edge(root.split('/')[-1], file)\n",
    "        G.add_edge(edge)\n"
   ]
  },
  {
   "cell_type": "code",
   "execution_count": null,
   "metadata": {},
   "outputs": [],
   "source": [
    "from IPython.display import Image, display\n",
    "\n",
    "im = Image(G.create_png())\n",
    "display(im)"
   ]
  },
  {
   "cell_type": "code",
   "execution_count": null,
   "metadata": {},
   "outputs": [],
   "source": [
    "l = [0, [[1, [2, 3, [[7,8], [10,11]]]], [4, [5, 6, [9,10]]]]]\n",
    "tree2 = ['Query',\n",
    "   [\n",
    "       ['cust_inv', [['cust'], ['inv']]],\n",
    "       ['trk_s', [['cust2'], ['inv2']]]\n",
    "   ]\n",
    "  ]\n",
    "\n",
    "\n",
    "datadict = {}\n",
    "\n",
    "def toTree(data,depth=0):\n",
    "    for elem in data:\n",
    "        if not isinstance(elem, str):\n",
    "            toTree(elem, depth+1)\n",
    "        else:\n",
    "            d = depth - 1 if depth > 0 else depth\n",
    "            if datadict.get(d):\n",
    "                datadict[d] = datadict[d] + [elem]\n",
    "            else:\n",
    "                datadict[d] = [elem]\n",
    "\n",
    "toTree(tree2)\n",
    "print(datadict)\n"
   ]
  },
  {
   "cell_type": "code",
   "execution_count": null,
   "metadata": {},
   "outputs": [],
   "source": [
    "l = [0, [[1, [2, 3, [[7,8], [10,11]]]], [4, [5, 6, [9,10]]]]]\n",
    "datadict = {}\n",
    "\n",
    "def toTree(data,depth=0):\n",
    "    for elem in data:\n",
    "        if not isinstance(elem, int):\n",
    "            toTree(elem, depth+1)\n",
    "        else:\n",
    "            d = depth - 1 if depth > 0 else depth\n",
    "            if datadict.get(d):\n",
    "                datadict[d] = datadict[d] + [elem]\n",
    "            else:\n",
    "                datadict[d] = [elem]\n",
    "\n",
    "toTree(l)\n",
    "print(datadict)"
   ]
  },
  {
   "cell_type": "code",
   "execution_count": null,
   "metadata": {},
   "outputs": [],
   "source": [
    "L = [0, [[1, [2, 3]], [4, [5, 6]]]]\n",
    "\n",
    "\n",
    "def getLevel(k, tree):\n",
    "    currentLevel = [tree[0]]\n",
    "    nextLevel = tree[1]\n",
    "    level = 1\n",
    "    while level <= k:\n",
    "        _currentLevel = []\n",
    "        _nextLevel = []\n",
    "        for subtree in nextLevel:\n",
    "            if isinstance(subtree, list):\n",
    "                _currentLevel.append(subtree[0])\n",
    "                if isinstance(subtree[1], list):\n",
    "                    _nextLevel.append(subtree[1])\n",
    "                else:\n",
    "                    _currentLevel.append(subtree[1])\n",
    "            else:\n",
    "                _currentLevel.append(subtree)\n",
    "        currentLevel= _currentLevel\n",
    "        nextLevel = _nextLevel\n",
    "        level+=1\n",
    "    return currentLevel\n",
    "\n",
    "\n",
    "\n",
    "print(getLevel(0, L))\n",
    "print(getLevel(1, L))\n",
    "print(getLevel(2, L))"
   ]
  },
  {
   "cell_type": "code",
   "execution_count": null,
   "metadata": {},
   "outputs": [],
   "source": [
    "B = ['a', ['b', 'c',['d','e']], 'f', ['g', 'h']]\n",
    "A = ['a', ['b', 'c',['d','e']]]\n",
    "\n",
    "# found on stack overflow - flatten list of kids for parent\n",
    "def flatten(iterable):\n",
    "    \"\"\"Recursively iterate lists and tuples.\n",
    "    \"\"\"\n",
    "    for elm in iterable:\n",
    "        if isinstance(elm, (list, tuple)):\n",
    "            for relm in flatten(elm):\n",
    "                yield relm\n",
    "        else:\n",
    "            yield elm\n",
    "\n",
    "# add data to an existing tree (recursive)\n",
    "def treeify(tree, l):\n",
    "    if isinstance(l, list):\n",
    "        # avoid looking back\n",
    "        l.reverse()\n",
    "    for index in range(len(l)):\n",
    "        if isinstance(l[index], list):\n",
    "            parent_name = l[index+1]\n",
    "            # flatten kids to a list\n",
    "            tree[parent_name] = list(flatten(l[index]))\n",
    "            # continue in deeper lists\n",
    "            treeify(tree, l[index])\n",
    "\n",
    "tree = {}\n",
    "treeify(tree, A)\n",
    "print(tree)\n",
    "tree = {}\n",
    "treeify(tree, B)\n",
    "print(tree)"
   ]
  },
  {
   "cell_type": "code",
   "execution_count": null,
   "metadata": {},
   "outputs": [],
   "source": [
    "import networkx as nx\n",
    "\n",
    "def parse_tree(node_list):\n",
    "    \"\"\"Parses a nested list into a networkx tree.\"\"\"\n",
    "    tree = nx.DiGraph()\n",
    "    root = node_list[0]\n",
    "    tree.add_node(root)\n",
    "\n",
    "    queue = [(root, node_list[1])]\n",
    "\n",
    "    while queue:\n",
    "        parent, nodes = queue.pop(0)\n",
    "        prev = None\n",
    "        for node in nodes:\n",
    "            if isinstance(node, list):\n",
    "                queue.append((prev, node))\n",
    "            else:\n",
    "                tree.add_node(node)\n",
    "                tree.add_edge(parent, node)\n",
    "\n",
    "            prev = node\n",
    "\n",
    "    return tree"
   ]
  },
  {
   "cell_type": "code",
   "execution_count": null,
   "metadata": {},
   "outputs": [],
   "source": [
    "tree2 = ['Query',\n",
    "   [\n",
    "       'cust_inv', ['cust', 'inv'],\n",
    "       'trk_s', ['trk', 's'],\n",
    "   ]\n",
    "  ]\n",
    "\n",
    "tree = parse_tree(tree2)\n",
    "{node: nx.descendants(tree, node) for node in tree}"
   ]
  },
  {
   "cell_type": "code",
   "execution_count": null,
   "metadata": {},
   "outputs": [],
   "source": [
    "from networkx.drawing.nx_agraph import graphviz_layout\n",
    "import matplotlib.pyplot as plt\n",
    "from IPython.display import Image, display\n",
    "\n",
    "# write dot file to use with graphviz\n",
    "# run \"dot -Tpng test.dot >test.png\"\n",
    "nx.nx_agraph.write_dot(tree,'test.dot')\n",
    "\n",
    "# same layout using matplotlib with no labels\n",
    "pos=graphviz_layout(tree, prog='dot', args=\"-Grankdir=LR\")\n",
    "A = nx.drawing.nx_agraph.to_agraph(nx.drawing.nx_pydot.read_dot('test.dot'))\n",
    "A.layout('dot')\n",
    "A.draw('tree.png')\n",
    "plt.savefig('nx_test.png')\n",
    "display(Image(filename=\"tree.png\"))\n",
    "\n",
    "\n",
    "# p = nx.drawing.nx_pydot.to_pydot(tree)\n",
    "# p.write_png('example.png')\n",
    "# display(Image(filename=\"example.png\"))\n"
   ]
  },
  {
   "cell_type": "code",
   "execution_count": null,
   "metadata": {},
   "outputs": [],
   "source": [
    "import pygraphviz as pgv\n",
    "\n",
    "G=pgv.AGraph(directed=True)\n",
    "\n",
    "#Attributes can be added when adding nodes or edge\n",
    "G.add_node(\"ROOT\", color='red')\n",
    "for i in range(5):\n",
    "    G.add_node(\"Child_%i\" % i, color='blue')\n",
    "    G.add_node(\"Grandchild_%i\" % i, color='blue')\n",
    "    G.add_node(\"Greatgrandchild_%i\" % i, color='blue')\n",
    "\n",
    "    G.add_edge(\"ROOT\", \"Child_%i\" % i, color='blue')\n",
    "    G.add_edge(\"Child_%i\" % i, \"Grandchild_%i\" % i, color='blue')\n",
    "    G.add_edge(\"Grandchild_%i\" % i, \"Greatgrandchild_%i\" % i, color='blue')\n",
    "\n",
    "# write to a dot file\n",
    "G.write('test.dot')\n",
    "\n",
    "#create a png file\n",
    "G.layout(prog='dot') # use dot\n",
    "G.draw('file.png')\n",
    "display(Image(filename=\"file.png\"))"
   ]
  },
  {
   "cell_type": "code",
   "execution_count": null,
   "metadata": {},
   "outputs": [],
   "source": [
    "import pygraphviz as pgv\n",
    "\n",
    "def parse_tree(node_list):\n",
    "    \"\"\"Parses a nested list into a networkx tree.\"\"\"\n",
    "    tree = pgv.AGraph(directed=True)\n",
    "    root = node_list[0]\n",
    "    tree.add_node(root, color='red',shape='normal')\n",
    "\n",
    "    queue = [(root, node_list[1])]\n",
    "\n",
    "    while queue:\n",
    "        parent, nodes = queue.pop(0)\n",
    "        prev = None\n",
    "        for node in nodes:\n",
    "            if isinstance(node, list):\n",
    "                queue.append((prev, node))\n",
    "            else:\n",
    "                tree.add_node(node, color='blue', shape=\"Mrecord\")\n",
    "                tree.add_edge(parent, node, color='blue')\n",
    "\n",
    "            prev = node\n",
    "\n",
    "    return tree\n",
    "                  \n",
    "# write to a dot file\n",
    "G = parse_tree(tree2)\n",
    "G.write('test2.dot')\n",
    "\n",
    "#create a png file\n",
    "G.layout(prog='dot') # use dot\n",
    "G.draw('test2.png')\n",
    "display(Image(filename=\"test2.png\"))"
   ]
  },
  {
   "cell_type": "code",
   "execution_count": 3,
   "metadata": {},
   "outputs": [
    {
     "data": {
      "image/png": "[encoded data removed]",
      "text/plain": [
       "<IPython.core.display.Image object>"
      ]
     },
     "metadata": {},
     "output_type": "display_data"
    }
   ],
   "source": [
    "import pydot\n",
    "from IPython.display import Image, display\n",
    "\n",
    "\n",
    "tree2 = ['Query',\n",
    "   [\n",
    "       'cust_inv', ['cust', 'inv'],\n",
    "       'trk_s', ['trk'],\n",
    "   ]\n",
    "  ]\n",
    "\n",
    "def parse_tree(node_list):\n",
    "    \"\"\"Parses a nested list into a networkx tree.\"\"\"\n",
    "    tree = pydot.Dot(graph_type=\"digraph\")\n",
    "    root = node_list[0]\n",
    "    tree.add_node(pydot.Node(root, style=\"filled\", fillcolor=\"yellow\", shape=\"note\"))\n",
    "\n",
    "    queue = [(root, node_list[1])]\n",
    "\n",
    "    while queue:\n",
    "        parent, nodes = queue.pop(0)\n",
    "        prev = None\n",
    "        for node in nodes:\n",
    "            if isinstance(node, list):\n",
    "                queue.append((prev, node))\n",
    "            else:\n",
    "                tree.add_node(pydot.Node(node, style=\"filled\", fillcolor=\"orange\", shape='Mrecord'))\n",
    "                edge = pydot.Edge(pydot.Node(parent, style=\"filled\", fillcolor=\"orange\"), pydot.Node(node, style=\"filled\", fillcolor=\"orange\"))\n",
    "                tree.add_edge(edge)\n",
    "\n",
    "            prev = node\n",
    "\n",
    "    return tree\n",
    "\n",
    "\n",
    "# write to a dot file\n",
    "G = parse_tree(tree2)\n",
    "\n",
    "im = Image(G.create_png())\n",
    "display(im)"
   ]
  },
  {
   "cell_type": "code",
   "execution_count": null,
   "metadata": {},
   "outputs": [],
   "source": []
  }
 ],
 "metadata": {
  "kernelspec": {
   "display_name": "Python 3",
   "language": "python",
   "name": "python3"
  },
  "language_info": {
   "codemirror_mode": {
    "name": "ipython",
    "version": 3
   },
   "file_extension": ".py",
   "mimetype": "text/x-python",
   "name": "python",
   "nbconvert_exporter": "python",
   "pygments_lexer": "ipython3",
   "version": "3.6.9"
  }
 },
 "nbformat": 4,
 "nbformat_minor": 4
}
